{
 "cells": [
  {
   "cell_type": "markdown",
   "id": "cc8e8f8a-f53e-47a0-8c75-e60d8d4a028b",
   "metadata": {},
   "source": [
    "# Exception handling\n",
    "- it handling the error that occur during the program execution.\n",
    "\n",
    "**types of exception handling**\n",
    "1. **try** : if the error occur they immediately move to the except block\n",
    "2. **except** : it catch the error throws by the try block\n",
    "3. **else** : it is optional in else block has no exception raised then this block execute\n",
    "4. **finally** : it is optional use for cleanup "
   ]
  },
  {
   "cell_type": "code",
   "execution_count": 2,
   "id": "5e74b70e-befc-4fe9-b542-68a385a715a5",
   "metadata": {},
   "outputs": [
    {
     "name": "stdin",
     "output_type": "stream",
     "text": [
      "enter the number =  28\n"
     ]
    },
    {
     "name": "stdout",
     "output_type": "stream",
     "text": [
      "no error\n",
      "28\n"
     ]
    }
   ],
   "source": [
    "try:\n",
    "    a = int(input(\"enter the number = \")) # code that raises an exception\n",
    "except ValueError:\n",
    "    print('please enter number = ') # code that runs if an exception occurs\n",
    "else:\n",
    "    print('no error') # runs if no exception is raises\n",
    "finally: # runs no matter what\n",
    "    print(a)\n",
    "    "
   ]
  },
  {
   "cell_type": "code",
   "execution_count": 4,
   "id": "fcda461b-d6c2-40c3-9221-c0b919b7466b",
   "metadata": {},
   "outputs": [
    {
     "name": "stdin",
     "output_type": "stream",
     "text": [
      "enter number =  28\n"
     ]
    },
    {
     "name": "stdout",
     "output_type": "stream",
     "text": [
      "0.07142857142857142\n"
     ]
    }
   ],
   "source": [
    "try:\n",
    "    num = int(input('enter number = '))\n",
    "    x = 2/num\n",
    "except ValueError: # when user give string / character\n",
    "    print('Invalid...please enter number')\n",
    "except ZeroDivisionError: # when user give 0 number then they show ZeroDivisionError\n",
    "    print('please enter a number larger than zero')\n",
    "else:\n",
    "    print(x)"
   ]
  },
  {
   "cell_type": "code",
   "execution_count": 6,
   "id": "8bf54d75-beac-432c-bac6-59f899a6cf86",
   "metadata": {},
   "outputs": [
    {
     "name": "stdin",
     "output_type": "stream",
     "text": [
      "enter first number =  28\n",
      "enter second number =  10\n"
     ]
    },
    {
     "name": "stdout",
     "output_type": "stream",
     "text": [
      "division is: 2.8\n"
     ]
    }
   ],
   "source": [
    "try:\n",
    "    n1 = int(input('enter first number = '))\n",
    "    n2 = int(input('enter second number = '))\n",
    "    print('division is:',n1/n2)\n",
    "except(ValueError,ZeroDivisionError) as e:\n",
    "    print('error :',e)"
   ]
  },
  {
   "cell_type": "markdown",
   "id": "179aa476-22a0-45dc-8826-12abb4b9e8b6",
   "metadata": {},
   "source": [
    "1. user has 5000 rs in balane ask how much to to withdraw. handle non-numeric input and insufficient balance."
   ]
  },
  {
   "cell_type": "code",
   "execution_count": 9,
   "id": "a47605a3-2325-43ff-a9c7-7c7efc6e5eb4",
   "metadata": {},
   "outputs": [
    {
     "name": "stdin",
     "output_type": "stream",
     "text": [
      "enter amount to withdraw =  10000\n"
     ]
    },
    {
     "name": "stdout",
     "output_type": "stream",
     "text": [
      "user have insufficient balance\n"
     ]
    }
   ],
   "source": [
    "initial_balance = 5000\n",
    "\n",
    "try:\n",
    "    withdraw_amt = float(input('enter amount to withdraw = ')) \n",
    "    if withdraw_amt > initial_balance: # check if withdraw amount is greater than initial amount then print insufficient balance\n",
    "        print('user have insufficient balance')\n",
    "    else:\n",
    "        initial_balance -= withdram_amt # otherwise withdraw amount is greater than initial amount is they subtract withdraw from initial amount\n",
    "        print('withdraw successfully. your new balance is :',initial_balance) # show your new balance\n",
    "except ValueError:\n",
    "    print('please enter number = ') "
   ]
  },
  {
   "cell_type": "markdown",
   "id": "34bb6e09-31eb-4ae9-b7df-f3f46fa7e42f",
   "metadata": {},
   "source": [
    "2. ask the user to enter a number convert it to an integer but handle invalid values like alphabets or float"
   ]
  },
  {
   "cell_type": "code",
   "execution_count": 12,
   "id": "257e41ab-ac54-4eca-b6ec-58fe04aa02df",
   "metadata": {},
   "outputs": [
    {
     "name": "stdin",
     "output_type": "stream",
     "text": [
      "enter number =  mohini\n"
     ]
    },
    {
     "name": "stdout",
     "output_type": "stream",
     "text": [
      "not an integer\n"
     ]
    }
   ],
   "source": [
    "try:\n",
    "    num = int(input('enter number = '))\n",
    "    print('it is integer')\n",
    "except ValueError:\n",
    "    print('not an integer')"
   ]
  },
  {
   "cell_type": "markdown",
   "id": "38ec357d-4f98-413c-a66b-fe5c46b7f9c7",
   "metadata": {},
   "source": [
    "3. ask the user tot enter an email. raise an exception if it doesn,t contain '@' or '.'"
   ]
  },
  {
   "cell_type": "code",
   "execution_count": 15,
   "id": "b5a374fd-3790-46e3-aa50-c369c287b72a",
   "metadata": {},
   "outputs": [
    {
     "name": "stdin",
     "output_type": "stream",
     "text": [
      "enter email id =  mohini\n"
     ]
    },
    {
     "name": "stdout",
     "output_type": "stream",
     "text": [
      "invalid email id\n"
     ]
    }
   ],
   "source": [
    "try:\n",
    "    id = input('enter email id = ')\n",
    "    if '@' not in id or '.' not in id:\n",
    "        raise ValueError\n",
    "    print('your email id is valid')\n",
    "except ValueError:\n",
    "    print('invalid email id')"
   ]
  },
  {
   "cell_type": "markdown",
   "id": "3ab81cf2-52e4-4b4c-a669-7717e1b8932c",
   "metadata": {},
   "source": [
    "4. ask user for hours worked and hourly wage if hour are more than 24 or negative raise an error"
   ]
  },
  {
   "cell_type": "code",
   "execution_count": 20,
   "id": "9def9669-5a8b-4fcc-903b-45cb8df301c8",
   "metadata": {},
   "outputs": [
    {
     "name": "stdin",
     "output_type": "stream",
     "text": [
      "enter your hours worked:  12\n",
      "enter your hours wage:  4000\n"
     ]
    },
    {
     "name": "stdout",
     "output_type": "stream",
     "text": [
      "48000.0\n"
     ]
    }
   ],
   "source": [
    "try:\n",
    "    work_hrs = float(input('enter your hours worked: ')) \n",
    "    wage_hr = float(input('enter your hours wage: '))\n",
    "\n",
    "    if work_hrs < 0 or work_hrs > 24:\n",
    "        print('invalid hours. must be between 0 and 24')\n",
    "    else:\n",
    "        total_pay = work_hrs * wage_hr\n",
    "        print(total_pay)\n",
    "except ValueError:\n",
    "    print('invalid input')"
   ]
  },
  {
   "cell_type": "markdown",
   "id": "c31717c7-88f2-45f3-811e-9bc83ce40474",
   "metadata": {},
   "source": [
    "5. take input of multiple(name,marks in 3 subject) and calculate the average, assign grade and display report card."
   ]
  },
  {
   "cell_type": "code",
   "execution_count": 23,
   "id": "9c61dd90-3166-4c64-9063-b9d2329bbf2e",
   "metadata": {},
   "outputs": [
    {
     "name": "stdin",
     "output_type": "stream",
     "text": [
      "Enter number of student: 1\n",
      "Enter the student name: mohini\n",
      "Enter math marks: 90\n",
      "Enter science marks: 98\n",
      "Enter english marks: 88\n"
     ]
    },
    {
     "name": "stdout",
     "output_type": "stream",
     "text": [
      "REPORT CARD\n",
      "Student name:mohini\n",
      "Marks:90.0,98.0,88.0\n",
      "Average marks 92.0\n",
      "student grade A\n"
     ]
    }
   ],
   "source": [
    "student={} # create empty dictionary\n",
    "\n",
    "num=int(input(\"Enter number of student:\")) \n",
    "for _ in range(num):\n",
    "    stud_name=input(\"Enter the student name:\")\n",
    "    math_mark=float(input(\"Enter math marks:\"))\n",
    "    sci_mark=float(input(\"Enter science marks:\"))\n",
    "    eng_mark=float(input(\"Enter english marks:\"))\n",
    "\n",
    "    avg=(math_mark + sci_mark + eng_mark)/3 # to find average\n",
    "    if avg >= 90:\n",
    "        grade=\"A\"\n",
    "    elif avg >=80:\n",
    "        grade=\"B\"\n",
    "    elif avg >=70:\n",
    "        grade=\"B+\"\n",
    "    elif avg >=60:\n",
    "        grade=\"C\"\n",
    "    else:\n",
    "        grade=\"F\"\n",
    "\n",
    "    student[stud_name]=(math_mark,sci_mark,eng_mark,avg,grade)\n",
    "    print(\"REPORT CARD\")\n",
    "    for name,report in student.items():\n",
    "        print(f\"Student name:{stud_name}\")\n",
    "        print(f\"Marks:{report[0]},{report[1]},{report[2]}\")\n",
    "        print(f\"Average marks {report[3]}\")\n",
    "        print(f\"student grade {report[4]}\")\n",
    "        \n",
    "    "
   ]
  },
  {
   "cell_type": "markdown",
   "id": "d9d7a7bb-4726-49b4-a639-52f96b0e719f",
   "metadata": {},
   "source": [
    "6. Temprature converter with menu convert: celcius to fahrenheit and fahrenheit to celcius and celcius to kelvin and kelvin to celcius."
   ]
  },
  {
   "cell_type": "code",
   "execution_count": 26,
   "id": "7de32a1d-e7ad-4475-b7fc-85919866f984",
   "metadata": {},
   "outputs": [
    {
     "name": "stdout",
     "output_type": "stream",
     "text": [
      "\n",
      "1. Celsius to Fahrenheit\n",
      "2. Fahrenheit to Celsius\n",
      "3. Celsius to Kelvin\n",
      "4. Kelvin to Celsius\n",
      "5. Exit\n"
     ]
    },
    {
     "name": "stdin",
     "output_type": "stream",
     "text": [
      "Enter your choice:  1\n",
      "Enter temperature in Celsius:  34\n"
     ]
    },
    {
     "name": "stdout",
     "output_type": "stream",
     "text": [
      "The conversion of Celsius to Fahrenheit is: 93.2\n",
      "\n",
      "1. Celsius to Fahrenheit\n",
      "2. Fahrenheit to Celsius\n",
      "3. Celsius to Kelvin\n",
      "4. Kelvin to Celsius\n",
      "5. Exit\n"
     ]
    },
    {
     "name": "stdin",
     "output_type": "stream",
     "text": [
      "Enter your choice:  5\n"
     ]
    },
    {
     "name": "stdout",
     "output_type": "stream",
     "text": [
      "Goodbye!\n"
     ]
    }
   ],
   "source": [
    "def celsius_to_fahrenheit(celsius): # define function for celsius_to_fahrenheit\n",
    "    return (celsius * 9/5) + 32  # to convert celsius_to_fahrenheit\n",
    "\n",
    "def fahrenheit_to_celsius(fahrenheit): # define function for fahrenheit_to_celsius\n",
    "    return (fahrenheit - 32) * 5/9 # to convert fahrenheit_to_celsius\n",
    "\n",
    "def celsius_to_kelvin(celsius): # define function for celsius_to_kelvin\n",
    "    return celsius + 273.15  # to convert celsius_to_kelvin\n",
    "\n",
    "def kelvin_to_celsius(kelvin): # define function for kelvin_to_celsius\n",
    "    return kelvin - 273.15 # to convert kelvin_to_celsius\n",
    "\n",
    "def temp_convertor():  # define  the last function for temperature_converter\n",
    "    while True:  # While=True for it excecute until condition is  exit\n",
    "        print(\"\\n1. Celsius to Fahrenheit\")\n",
    "        print(\"2. Fahrenheit to Celsius\")\n",
    "        print(\"3. Celsius to Kelvin\")\n",
    "        print(\"4. Kelvin to Celsius\")\n",
    "        print(\"5. Exit\")\n",
    "\n",
    "        user_choice = input(\"Enter your choice: \") # take user choice\n",
    "\n",
    "        if user_choice == '1':\n",
    "            celsius = float(input(\"Enter temperature in Celsius: \"))\n",
    "            fahrenheit = celsius_to_fahrenheit(celsius)\n",
    "            print(\"The conversion of Celsius to Fahrenheit is:\", fahrenheit)\n",
    "        elif user_choice == '2':\n",
    "            fahrenheit = float(input(\"Enter temperature in Fahrenheit: \"))\n",
    "            celsius = fahrenheit_to_celsius(fahrenheit)\n",
    "            print(\"The conversion of Fahrenheit to Celsius is:\", celsius)\n",
    "        elif user_choice == '3':\n",
    "            celsius = float(input(\"Enter temperature in Celsius: \"))\n",
    "            kelvin = celsius_to_kelvin(celsius)\n",
    "            print(\"The conversion of Celsius to Kelvin is:\", kelvin)\n",
    "        elif user_choice == '4':\n",
    "            kelvin = float(input(\"Enter temperature in Kelvin: \"))\n",
    "            celsius = kelvin_to_celsius(kelvin)\n",
    "            print(\"The conversion of Kelvin to Celsius is:\", celsius)\n",
    "        elif user_choice == '5':\n",
    "            print(\"Goodbye!\")  # stop the loop\n",
    "            break\n",
    "        else:\n",
    "            print(\"Invalid choice! Try again.\") # if user not  give input between 1-5 then it will be print. \n",
    "\n",
    "temp_convertor() # call the function\n",
    "              "
   ]
  },
  {
   "cell_type": "markdown",
   "id": "c268991b-cd89-4ed9-8fa7-3293d09b912a",
   "metadata": {},
   "source": [
    "7. Simulation a login system with a predefined username and password."
   ]
  },
  {
   "cell_type": "code",
   "execution_count": 29,
   "id": "4d6d308d-2b56-4eae-bb2d-9981207e930c",
   "metadata": {},
   "outputs": [
    {
     "name": "stdin",
     "output_type": "stream",
     "text": [
      "Enter  the username:  mohini\n",
      "Enter the  password:  230\n"
     ]
    },
    {
     "name": "stdout",
     "output_type": "stream",
     "text": [
      "Invalid username or password\n"
     ]
    }
   ],
   "source": [
    "username = \"mohini\" # Predefined username and password\n",
    "password = \"2810\"\n",
    "def password_rule(pas): # create function for password rule\n",
    "    if len(pwd) < 8: # password contain atleast 8 charecter\n",
    "        return \"Password too short\"\n",
    "    elif not password.search(\"[a-z]\", pas): # password contain atleast one lower case letter\n",
    "        return \"Password contain lowercase letter\"\n",
    "    elif not password.search(\"[A-Z]\", pas):  # password contain atleast one upper case letter\n",
    "        return \"Password contain uppercase letter\"\n",
    "    elif not password.search(\"[0-9]\", pas):  # password should contain digits \n",
    "        return \"Password contain atleast one digit\"\n",
    "    else:\n",
    "        return \"Valid\"\n",
    "user = input(\"Enter  the username: \") # take user_name and password from user \n",
    "pas= input(\"Enter the  password: \")\n",
    "\n",
    "if user == username and pas== password: # if user & pas it match  to the username and password\n",
    "    print(\"Login successful!\") # print login sucessfull\n",
    "else:\n",
    "    print(\"Invalid username or password\") # other wise it return invalid password & username"
   ]
  },
  {
   "cell_type": "markdown",
   "id": "4a2977f1-ea94-42bd-be93-afc89ead579e",
   "metadata": {},
   "source": [
    "8. python program for to find cube of number entered by the user."
   ]
  },
  {
   "cell_type": "code",
   "execution_count": 32,
   "id": "dc27ec51-d9b6-47c3-9c78-8dcbd796f32d",
   "metadata": {},
   "outputs": [
    {
     "name": "stdin",
     "output_type": "stream",
     "text": [
      "Enter the number:  9\n"
     ]
    },
    {
     "name": "stdout",
     "output_type": "stream",
     "text": [
      "The cube of 9 is 729\n"
     ]
    }
   ],
   "source": [
    "number = int(input(\"Enter the number: \"))  # take input from user\n",
    "cube = number ** 3 # to find cube of the number\n",
    "print(f\"The cube of {number} is {cube}\")"
   ]
  },
  {
   "cell_type": "markdown",
   "id": "4659ed08-e2cd-423e-9e54-119e50e03094",
   "metadata": {},
   "source": [
    "9. Input a paragraph,clean it up and count the frequency using a dictionary.bonus:sort by frequency."
   ]
  },
  {
   "cell_type": "code",
   "execution_count": 35,
   "id": "3dd1a74b-0710-4132-90ad-9f6bf5e0671d",
   "metadata": {},
   "outputs": [
    {
     "name": "stdin",
     "output_type": "stream",
     "text": [
      "Enter a paragraph:  my name is mohini. my life is not going well at all i dont knowwhy god giving me this punishment may god will bless me with better life\n"
     ]
    },
    {
     "name": "stdout",
     "output_type": "stream",
     "text": [
      "my 2\n",
      "is 2\n",
      "life 2\n",
      "god 2\n",
      "me 2\n",
      "name 1\n",
      "mohini 1\n",
      "not 1\n",
      "going 1\n",
      "well 1\n",
      "at 1\n",
      "all 1\n",
      "i 1\n",
      "dont 1\n",
      "knowwhy 1\n",
      "giving 1\n",
      "this 1\n",
      "punishment 1\n",
      "may 1\n",
      "will 1\n",
      "bless 1\n",
      "with 1\n",
      "better 1\n"
     ]
    }
   ],
   "source": [
    "para = input(\"Enter a paragraph: \") # take a paragraph from user\n",
    "\n",
    "# Clean the  paragraph\n",
    "para = para.lower() # to get all word in a lower case\n",
    "for ch in \".,!?;:\":  # Removes punctuation by replacing them with an empty string.\n",
    "    para = para.replace(ch, '')\n",
    "\n",
    "# Split into words\n",
    "words = para.split() # Split  paragraph into a words\n",
    "\n",
    "# Count word frequencies using dictionary\n",
    "frequency = {} # create empty dict\n",
    "for word in words:\n",
    "    if word in frequency:\n",
    "        frequency[word] += 1\n",
    "    else:\n",
    "        frequency[word] = 1\n",
    "\n",
    "# Sorts the word counts from highest to lowest.\n",
    "sort_freq = sorted(frequency.items(), key=lambda x: x[1], reverse=True)\n",
    "\n",
    "# Print results\n",
    "for word, count in sort_freq:\n",
    "    print(word, count)"
   ]
  },
  {
   "cell_type": "code",
   "execution_count": null,
   "id": "3eb94355-3edc-44be-8fee-5d4b86f79ddc",
   "metadata": {},
   "outputs": [],
   "source": []
  }
 ],
 "metadata": {
  "kernelspec": {
   "display_name": "Python 3 (ipykernel)",
   "language": "python",
   "name": "python3"
  },
  "language_info": {
   "codemirror_mode": {
    "name": "ipython",
    "version": 3
   },
   "file_extension": ".py",
   "mimetype": "text/x-python",
   "name": "python",
   "nbconvert_exporter": "python",
   "pygments_lexer": "ipython3",
   "version": "3.12.4"
  }
 },
 "nbformat": 4,
 "nbformat_minor": 5
}
