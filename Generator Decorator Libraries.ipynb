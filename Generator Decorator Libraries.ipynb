{
 "cells": [
  {
   "cell_type": "markdown",
   "id": "53202a58-0f08-4235-b51d-43f732cf8728",
   "metadata": {},
   "source": [
    "# Generator\n",
    "- A generator is a special type of function that return an iterator but instead of returning all at once **it use yield one value at a time**"
   ]
  },
  {
   "cell_type": "code",
   "execution_count": 6,
   "id": "4c177ba9-517a-4cf4-89f6-f0720390038a",
   "metadata": {},
   "outputs": [
    {
     "name": "stdout",
     "output_type": "stream",
     "text": [
      "[1, 2, 3]\n",
      "1\n",
      "2\n",
      "3\n"
     ]
    }
   ],
   "source": [
    "def simple(): # in function we use return\n",
    "    return [1,2,3] \n",
    "a = simple()\n",
    "print(a)\n",
    "\n",
    "def simple_generator(): # in generator we use yield\n",
    "    yield 1\n",
    "    yield 2\n",
    "    yield 3\n",
    "\n",
    "b = simple_generator()\n",
    "print(next(b)) # it return first value ,,,,return only one value until we requested for new value\n",
    "print(next(b)) # reuqest to next value\n",
    "print(next(b))"
   ]
  },
  {
   "cell_type": "code",
   "execution_count": 10,
   "id": "86862850-7113-476c-bb15-651289f6916d",
   "metadata": {},
   "outputs": [
    {
     "name": "stdout",
     "output_type": "stream",
     "text": [
      "[0, 1, 2, 3, 4]\n"
     ]
    }
   ],
   "source": [
    "# in function\n",
    "def num_list(n): # to print 5 number in list by using function\n",
    "    num = []\n",
    "    for i in range(n):\n",
    "        num.append(i)\n",
    "    return num\n",
    "\n",
    "a = num_list(5)\n",
    "print(a)"
   ]
  },
  {
   "cell_type": "code",
   "execution_count": 12,
   "id": "d11d983f-28e0-44de-ab11-b45b1fd25455",
   "metadata": {},
   "outputs": [
    {
     "name": "stdout",
     "output_type": "stream",
     "text": [
      "0\n",
      "1\n",
      "2\n",
      "3\n",
      "4\n"
     ]
    }
   ],
   "source": [
    "# in generator\n",
    "def gen_num_list(n): \n",
    "    for i in range(n):\n",
    "        yield i\n",
    "b = gen_num_list(5)\n",
    "for no in b:\n",
    "    print(no)"
   ]
  },
  {
   "cell_type": "markdown",
   "id": "767a73c7-cb6d-49bc-8fb7-af84dc61f828",
   "metadata": {},
   "source": [
    "1. print a python program to count number up to n. start with 1. use function"
   ]
  },
  {
   "cell_type": "code",
   "execution_count": 17,
   "id": "6c408ca2-3afa-43e1-ae1e-4495074c43a1",
   "metadata": {},
   "outputs": [
    {
     "name": "stdin",
     "output_type": "stream",
     "text": [
      "Enter a number 10\n"
     ]
    },
    {
     "name": "stdout",
     "output_type": "stream",
     "text": [
      "1\n",
      "2\n",
      "3\n",
      "4\n",
      "5\n",
      "6\n",
      "7\n",
      "8\n",
      "9\n",
      "10\n"
     ]
    }
   ],
   "source": [
    "def count_n(n):\n",
    "    for i in range(1,n+1):\n",
    "        print(i)\n",
    "n=int(input(\"Enter a number\"))  # to take inut from user\n",
    "count_n(n)\n",
    "            "
   ]
  },
  {
   "cell_type": "markdown",
   "id": "354ed8e8-f622-41bc-8990-a0d0090c779e",
   "metadata": {},
   "source": [
    "2.print a python program to count number up to n.start with 1.use generator\n"
   ]
  },
  {
   "cell_type": "code",
   "execution_count": 22,
   "id": "9e48ef7b-5e1a-43ad-970e-2e95f9d4c33e",
   "metadata": {},
   "outputs": [
    {
     "name": "stdout",
     "output_type": "stream",
     "text": [
      "1\n",
      "2\n",
      "3\n",
      "4\n",
      "5\n"
     ]
    }
   ],
   "source": [
    "def count_n(n):\n",
    "  i=1\n",
    "  while i<=n:\n",
    "      yield i\n",
    "      i += 1\n",
    "\n",
    "#for no in count_n(5):   # to print all value \n",
    "  #  print(no)\n",
    "\n",
    "a=count_n(5) # to print one by one value\n",
    "print(next(a))\n",
    "print(next(a))\n",
    "print(next(a))\n",
    "print(next(a))\n",
    "print(next(a))"
   ]
  },
  {
   "cell_type": "markdown",
   "id": "b322e3e7-a690-4538-9cc6-6c2294383013",
   "metadata": {},
   "source": [
    "3. find square using generator"
   ]
  },
  {
   "cell_type": "code",
   "execution_count": 27,
   "id": "56f6528d-f6cc-4de4-9cec-2cd1d028ee87",
   "metadata": {},
   "outputs": [
    {
     "name": "stdout",
     "output_type": "stream",
     "text": [
      "1\n",
      "4\n",
      "9\n",
      "16\n",
      "25\n",
      "36\n",
      "49\n",
      "64\n",
      "81\n",
      "100\n"
     ]
    }
   ],
   "source": [
    "def gen_square(n):\n",
    "    for i in range(1,n+1): # start from 1\n",
    "        yield i*i\n",
    "for sqr in gen_square(10): # passing parameter\n",
    "    print(sqr)"
   ]
  },
  {
   "cell_type": "markdown",
   "id": "65f60466-f1ef-49d6-8994-59b841db83f0",
   "metadata": {},
   "source": [
    "4. generator for printing characters of strings"
   ]
  },
  {
   "cell_type": "code",
   "execution_count": 30,
   "id": "01fd2583-1dbc-483e-8be2-1e5591992e0e",
   "metadata": {},
   "outputs": [
    {
     "name": "stdout",
     "output_type": "stream",
     "text": [
      "m\n",
      "o\n",
      "h\n",
      "i\n",
      "n\n",
      "i\n"
     ]
    }
   ],
   "source": [
    "def gen_char(text):\n",
    "    for char in text:\n",
    "        yield char\n",
    "\n",
    "for ch in gen_char('mohini'):\n",
    "    print(ch)"
   ]
  },
  {
   "cell_type": "markdown",
   "id": "2f3df333-fc33-4c49-beca-3a5a6bbf2996",
   "metadata": {},
   "source": [
    "5. write a generator even number(n) that yield even number from 0 to n"
   ]
  },
  {
   "cell_type": "code",
   "execution_count": 33,
   "id": "332ff7d6-5ee5-4afe-8509-97b92fa6448f",
   "metadata": {},
   "outputs": [
    {
     "name": "stdout",
     "output_type": "stream",
     "text": [
      "0\n",
      "2\n",
      "4\n",
      "6\n",
      "8\n",
      "10\n"
     ]
    }
   ],
   "source": [
    "def gen_even_number(n): # define a generator\n",
    "    for i in range(0,n+1,2): # starting from 0 and n+1 is end point and 2  for increment by 2\n",
    "        yield i\n",
    "\n",
    "for even in gen_even_number(10): # print even from 0 to 10\n",
    "    print(even)"
   ]
  },
  {
   "cell_type": "markdown",
   "id": "30cf7e4e-c2df-4899-ba8c-5f377e1f332a",
   "metadata": {},
   "source": [
    "6. create a generator fibonacci(n) that yield the first n fibonacci numbers"
   ]
  },
  {
   "cell_type": "code",
   "execution_count": 36,
   "id": "09ef1f57-004e-4ff5-9d23-16ade8d4db97",
   "metadata": {},
   "outputs": [
    {
     "name": "stdout",
     "output_type": "stream",
     "text": [
      "0\n",
      "1\n",
      "1\n",
      "2\n",
      "3\n",
      "5\n",
      "8\n",
      "13\n",
      "21\n",
      "34\n"
     ]
    }
   ],
   "source": [
    "def fibonacci_num(n):\n",
    "    a,b=0,1 # initialize the a=0 and b=1\n",
    "    for _ in range(n):\n",
    "        yield a\n",
    "        a,b=b,a+b\n",
    "\n",
    "for fibo in fibonacci_num(10):\n",
    "    print(fibo)"
   ]
  },
  {
   "cell_type": "markdown",
   "id": "8a203b50-2592-401a-aff6-94db173f3870",
   "metadata": {},
   "source": [
    "7. write a generator infinite_numbers() that yield natural number starting from infinitely use next() to print the first 10 number"
   ]
  },
  {
   "cell_type": "code",
   "execution_count": 45,
   "id": "a89c774b-9d6a-487a-9460-3f44e93090f3",
   "metadata": {},
   "outputs": [
    {
     "name": "stdout",
     "output_type": "stream",
     "text": [
      "1\n",
      "2\n",
      "3\n",
      "4\n",
      "5\n",
      "6\n",
      "7\n",
      "8\n",
      "9\n",
      "10\n"
     ]
    }
   ],
   "source": [
    "def natural_num(n):\n",
    "    for i in range(1,n+1):\n",
    "        yield i\n",
    "\n",
    "a = natural_num(10)\n",
    "print(next(a))\n",
    "print(next(a))\n",
    "print(next(a))\n",
    "print(next(a))\n",
    "print(next(a))\n",
    "print(next(a))\n",
    "print(next(a))\n",
    "print(next(a))\n",
    "print(next(a))\n",
    "print(next(a))\n",
    "\n",
    "\n"
   ]
  },
  {
   "cell_type": "markdown",
   "id": "87bebd07-a05c-4af7-9994-aa727bbd286e",
   "metadata": {},
   "source": [
    "8. create a generator reverse string(text) that yield character of a string in reverse order"
   ]
  },
  {
   "cell_type": "code",
   "execution_count": 50,
   "id": "88b820cb-3bb7-4407-91b1-98a1fd3653ba",
   "metadata": {},
   "outputs": [
    {
     "name": "stdout",
     "output_type": "stream",
     "text": [
      "i\n",
      "n\n",
      "i\n",
      "h\n",
      "o\n",
      "m\n"
     ]
    }
   ],
   "source": [
    "def reverse_string(text):\n",
    "    for ch in reversed(text): # to reverse a string\n",
    "        yield ch\n",
    "\n",
    "for char in reverse_string('mohini'):\n",
    "    print(char)"
   ]
  },
  {
   "cell_type": "markdown",
   "id": "90e15326-a9df-4e31-ae97-d0208e2c9053",
   "metadata": {},
   "source": [
    "# Decorator\n",
    "- in decorator we add extra features\n",
    "- a decorator is a function that adds extra things / features to another function without changing the original function\n",
    "- we use wrapper function to runs your original function and add something before or after it"
   ]
  },
  {
   "cell_type": "code",
   "execution_count": 56,
   "id": "3480a9c8-2cd1-46d5-88d4-74b04254836c",
   "metadata": {},
   "outputs": [
    {
     "name": "stdout",
     "output_type": "stream",
     "text": [
      "before function runs:\n",
      "hello\n",
      "after function runs :\n"
     ]
    }
   ],
   "source": [
    "def sample_decorator(func): # outer function\n",
    "    def wrapper(): # inner function / wrapper function\n",
    "        print('before function runs:')\n",
    "        func()\n",
    "        print('after function runs :')\n",
    "\n",
    "    return wrapper\n",
    "\n",
    "@sample_decorator # add decorator (use when we add extra feature)\n",
    "def hello():\n",
    "    print('hello')\n",
    "hello() # call function"
   ]
  },
  {
   "cell_type": "code",
   "execution_count": 58,
   "id": "ce197db8-8afc-489d-b39d-cdd2dc3e7385",
   "metadata": {},
   "outputs": [
    {
     "name": "stdout",
     "output_type": "stream",
     "text": [
      "50\n"
     ]
    }
   ],
   "source": [
    "def multiply(func): # we pass only function\n",
    "    def wrapper(x):\n",
    "        result = func(x)\n",
    "        return result * 2 \n",
    "    return wrapper\n",
    "\n",
    "@multiply # add decorator\n",
    "def mul(n):\n",
    "    return n * n\n",
    "print(mul(5))"
   ]
  },
  {
   "cell_type": "code",
   "execution_count": 63,
   "id": "e803fd8a-1790-4100-a9b1-1057a0bdb603",
   "metadata": {},
   "outputs": [
    {
     "name": "stdout",
     "output_type": "stream",
     "text": [
      "hello !\n",
      "i am mohini\n",
      "bye bye\n"
     ]
    }
   ],
   "source": [
    "def hello(func):\n",
    "    def wrapper():\n",
    "        print('hello !')\n",
    "        func()\n",
    "        print('bye bye')\n",
    "    return wrapper\n",
    "@hello\n",
    "def name():\n",
    "    print('i am mohini')\n",
    "name()"
   ]
  },
  {
   "cell_type": "code",
   "execution_count": 67,
   "id": "ad7f87ee-e707-4e19-8367-989f27af3967",
   "metadata": {},
   "outputs": [
    {
     "name": "stdout",
     "output_type": "stream",
     "text": [
      "HELLO\n"
     ]
    }
   ],
   "source": [
    "def uppercase(func):\n",
    "    def wrapper():\n",
    "        original_result = func()\n",
    "        modified_result=original_result.upper()\n",
    "        return modified_result\n",
    "    return wrapper\n",
    "\n",
    "@uppercase\n",
    "def greet():\n",
    "    return \"Hello\"\n",
    "print(greet())\n"
   ]
  },
  {
   "cell_type": "code",
   "execution_count": 69,
   "id": "152c88f3-1566-44cb-a367-352cf5a1c39a",
   "metadata": {},
   "outputs": [
    {
     "name": "stdout",
     "output_type": "stream",
     "text": [
      "8 is an even number\n",
      "5 is not an even number\n"
     ]
    }
   ],
   "source": [
    "def even(even_odd):\n",
    "    def func1(n):\n",
    "        if n % 2 == 0:\n",
    "            return even_odd(n)\n",
    "        else:\n",
    "            return f\"{n} is not an even number\"\n",
    "    return func1\n",
    "\n",
    "@even\n",
    "def even_odd(n):\n",
    "    return f\"{n} is an even number\"\n",
    "print(even_odd(8))\n",
    "print(even_odd(5))"
   ]
  },
  {
   "cell_type": "code",
   "execution_count": 71,
   "id": "6607f818-48af-4aa2-8734-1157674ccfcd",
   "metadata": {},
   "outputs": [
    {
     "name": "stdout",
     "output_type": "stream",
     "text": [
      "/\n",
      "hello\n",
      "/\n"
     ]
    }
   ],
   "source": [
    "def hello(func):\n",
    "    def wrapper() :\n",
    "       print(\"/\")\n",
    "       func()\n",
    "       print(\"/\")\n",
    "    return wrapper\n",
    "@hello\n",
    "def name():\n",
    "    print(\"hello\")\n",
    "name()"
   ]
  },
  {
   "cell_type": "markdown",
   "id": "023840f4-bf81-4976-8b86-b46fabf16743",
   "metadata": {},
   "source": [
    "1. write a decorator that check if the input to a function is a positive number"
   ]
  },
  {
   "cell_type": "code",
   "execution_count": 74,
   "id": "dccb2471-d297-47f8-9842-0d91f3b123c2",
   "metadata": {},
   "outputs": [
    {
     "name": "stdout",
     "output_type": "stream",
     "text": [
      "10 is an positive number\n",
      "-1 is not an positive number\n"
     ]
    }
   ],
   "source": [
    "def positive(pos_neg): \n",
    "    def funct1(num):\n",
    "        if num > 0: # check number is positive\n",
    "            return pos_neg(num)\n",
    "        else:\n",
    "            return f'{num} is not an positive number'\n",
    "    return funct1\n",
    "\n",
    "@positive # add decorator\n",
    "def pos_neg(num):\n",
    "    return f'{num} is an positive number'\n",
    "\n",
    "print(pos_neg(10))\n",
    "print(pos_neg(-1))"
   ]
  },
  {
   "cell_type": "markdown",
   "id": "db6dee13-fe1b-44c8-82be-c768c5c6eaea",
   "metadata": {},
   "source": [
    "2. create a decorator that print 'access granted' before any function"
   ]
  },
  {
   "cell_type": "code",
   "execution_count": 83,
   "id": "f9e3729a-435a-4a41-a2d5-7c8b5732a7d4",
   "metadata": {},
   "outputs": [
    {
     "name": "stdout",
     "output_type": "stream",
     "text": [
      "access granted\n",
      "i am mohineee\n"
     ]
    }
   ],
   "source": [
    "def access_granted(func):\n",
    "    def wrapper():\n",
    "        print('access granted')\n",
    "        func() # call original function\n",
    "    return wrapper\n",
    "@access_granted # add decorator\n",
    "def name():\n",
    "        print('i am mohineee')\n",
    "name()"
   ]
  },
  {
   "cell_type": "markdown",
   "id": "0b4ab6d4-0f6c-4211-838f-5fdb090db99f",
   "metadata": {},
   "source": [
    "3. create a decorator that count how many times a function is called"
   ]
  },
  {
   "cell_type": "code",
   "execution_count": 88,
   "id": "4eadf459-5535-4b18-9fea-74cd32c94132",
   "metadata": {},
   "outputs": [
    {
     "name": "stdout",
     "output_type": "stream",
     "text": [
      "called 1 times \n",
      "mohineee\n",
      "called 2 times \n",
      "mohineee\n"
     ]
    }
   ],
   "source": [
    "def count_times(func): #define decorator function that count how many times a function is called\n",
    "    \n",
    "    def wrapper():  \n",
    "        wrapper.count += 1 # increase the count each time the function is called\n",
    "        print(f\"called {wrapper.count} times \")\n",
    "        return func() \n",
    "    wrapper.count=0\n",
    "    return wrapper\n",
    "\n",
    "@count_times\n",
    "def names():\n",
    "    print(\"mohineee\")\n",
    "\n",
    "names()\n",
    "names()"
   ]
  },
  {
   "cell_type": "markdown",
   "id": "ef05ac9f-8bdc-47cf-ab6f-24d8978cc4ab",
   "metadata": {},
   "source": [
    "4. Ask the user to enter side of a sqaure and radius of a circle.compare the areas and print which is greater."
   ]
  },
  {
   "cell_type": "code",
   "execution_count": 91,
   "id": "36a5736a-e347-4fd6-b420-c30195f6797f",
   "metadata": {},
   "outputs": [
    {
     "name": "stdin",
     "output_type": "stream",
     "text": [
      "Enter side of square:  28\n",
      "Enter radius of circle:  9\n"
     ]
    },
    {
     "name": "stdout",
     "output_type": "stream",
     "text": [
      "area of square is greater\n",
      "Area of square: 784.00\n",
      "Area of circle: 254.34\n"
     ]
    }
   ],
   "source": [
    "\n",
    "\n",
    "side = float(input(\"Enter side of square: \"))\n",
    "radius = float(input(\"Enter radius of circle: \"))\n",
    "\n",
    "# Calculate areas\n",
    "square_area = side ** 2\n",
    "pi=3.14\n",
    "circle_area = 3.14 * (radius ** 2)\n",
    "\n",
    "# Compare areas\n",
    "if square_area > circle_area:\n",
    "    print(\"area of square is greater\")\n",
    "elif circle_area > square_area:\n",
    "    print(\"area of circle is greater\")\n",
    "else:\n",
    "    print(\"Both areas are equal\")\n",
    "\n",
    "print(f\"Area of square: {square_area:.2f}\")\n",
    "print(f\"Area of circle: {circle_area:.2f}\")"
   ]
  },
  {
   "cell_type": "markdown",
   "id": "45a3a6b0-223a-4a3b-a6eb-3c7756b1ca35",
   "metadata": {},
   "source": [
    "5. Take hour parked as input.first 2 hour are Rs10 each remaining hour are Rs 5 per hour calculate total charge."
   ]
  },
  {
   "cell_type": "code",
   "execution_count": 95,
   "id": "c96b1f9e-8f09-40f1-92b8-6385abad1b0c",
   "metadata": {},
   "outputs": [
    {
     "name": "stdin",
     "output_type": "stream",
     "text": [
      "Enter the  hours parked:  10\n"
     ]
    },
    {
     "name": "stdout",
     "output_type": "stream",
     "text": [
      "Total charge are : Rs 60\n"
     ]
    }
   ],
   "source": [
    "hour = int(input(\"Enter the  hours parked: \")) # taking hour from user\n",
    "\n",
    "if hour <= 2:\n",
    "    charge = hour * 10 #  First 2 hours are Rs 10 each\n",
    "else:\n",
    "    charge = 20 + (hour - 2) * 5  # First 2 hours are Rs 20, remaining hours are Rs 5 each\n",
    "\n",
    "print(\"Total charge are : Rs\", charge)\n"
   ]
  },
  {
   "cell_type": "markdown",
   "id": "923ce118-50c0-45e2-a418-960fe01c0c79",
   "metadata": {},
   "source": [
    "# Libraries"
   ]
  },
  {
   "cell_type": "code",
   "execution_count": 98,
   "id": "d9005d22-7e98-483c-ab62-7e29d9b6d935",
   "metadata": {},
   "outputs": [
    {
     "name": "stdout",
     "output_type": "stream",
     "text": [
      "['ArrowDtype', 'BooleanDtype', 'Categorical', 'CategoricalDtype', 'CategoricalIndex', 'DataFrame', 'DateOffset', 'DatetimeIndex', 'DatetimeTZDtype', 'ExcelFile', 'ExcelWriter', 'Flags', 'Float32Dtype', 'Float64Dtype', 'Grouper', 'HDFStore', 'Index', 'IndexSlice', 'Int16Dtype', 'Int32Dtype', 'Int64Dtype', 'Int8Dtype', 'Interval', 'IntervalDtype', 'IntervalIndex', 'MultiIndex', 'NA', 'NaT', 'NamedAgg', 'Period', 'PeriodDtype', 'PeriodIndex', 'RangeIndex', 'Series', 'SparseDtype', 'StringDtype', 'Timedelta', 'TimedeltaIndex', 'Timestamp', 'UInt16Dtype', 'UInt32Dtype', 'UInt64Dtype', 'UInt8Dtype', '__all__', '__builtins__', '__cached__', '__doc__', '__docformat__', '__file__', '__git_version__', '__loader__', '__name__', '__package__', '__path__', '__spec__', '__version__', '_built_with_meson', '_config', '_is_numpy_dev', '_libs', '_pandas_datetime_CAPI', '_pandas_parser_CAPI', '_testing', '_typing', '_version_meson', 'annotations', 'api', 'array', 'arrays', 'bdate_range', 'compat', 'concat', 'core', 'crosstab', 'cut', 'date_range', 'describe_option', 'errors', 'eval', 'factorize', 'from_dummies', 'get_dummies', 'get_option', 'infer_freq', 'interval_range', 'io', 'isna', 'isnull', 'json_normalize', 'lreshape', 'melt', 'merge', 'merge_asof', 'merge_ordered', 'notna', 'notnull', 'offsets', 'option_context', 'options', 'pandas', 'period_range', 'pivot', 'pivot_table', 'plotting', 'qcut', 'read_clipboard', 'read_csv', 'read_excel', 'read_feather', 'read_fwf', 'read_gbq', 'read_hdf', 'read_html', 'read_json', 'read_orc', 'read_parquet', 'read_pickle', 'read_sas', 'read_spss', 'read_sql', 'read_sql_query', 'read_sql_table', 'read_stata', 'read_table', 'read_xml', 'reset_option', 'set_eng_float_format', 'set_option', 'show_versions', 'test', 'testing', 'timedelta_range', 'to_datetime', 'to_numeric', 'to_pickle', 'to_timedelta', 'tseries', 'unique', 'util', 'value_counts', 'wide_to_long']\n"
     ]
    }
   ],
   "source": [
    "import pandas as pd\n",
    "print(dir(pd))"
   ]
  },
  {
   "cell_type": "code",
   "execution_count": 100,
   "id": "bc33ce81-f7ea-4c2c-9f1a-89551adbde97",
   "metadata": {},
   "outputs": [
    {
     "name": "stdout",
     "output_type": "stream",
     "text": [
      "     name  age course\n",
      "0  mohini   21     DS\n",
      "1   gauri   14    9th\n"
     ]
    }
   ],
   "source": [
    "# data loading libraries\n",
    "# dataframe df is tabular format sheet that  we store the data\n",
    "\n",
    "data = {'name':['mohini','gauri'],\n",
    "       'age':[21,14],\n",
    "       'course':['DS','9th']}\n",
    "\n",
    "df = pd.DataFrame(data) # to create dataframe\n",
    "print(df)"
   ]
  },
  {
   "cell_type": "code",
   "execution_count": 102,
   "id": "87314134-5e97-462e-927e-f4a25cd4b2cc",
   "metadata": {},
   "outputs": [
    {
     "data": {
      "text/plain": [
       "(2, 3)"
      ]
     },
     "execution_count": 102,
     "metadata": {},
     "output_type": "execute_result"
    }
   ],
   "source": [
    "df.shape # to get number of rows and columns"
   ]
  },
  {
   "cell_type": "code",
   "execution_count": 104,
   "id": "a3183f2f-1dd6-4292-a66e-1f99733cbc07",
   "metadata": {},
   "outputs": [
    {
     "name": "stdout",
     "output_type": "stream",
     "text": [
      "     Name         Education  Age  City  Hobbies\n",
      "0  mohini  computer science   21  Pune  Dancing\n",
      "1   gauri               9th   14  Dehu  Dancing\n"
     ]
    }
   ],
   "source": [
    "# create a dataframe with the column : name, education, age, city, hobbies\n",
    "\n",
    "stud_data={\"Name\":['mohini','gauri'],\n",
    "          \"Education\":['computer science','9th'],\n",
    "          \"Age\":[21,14],\n",
    "          \"City\":['Pune','Dehu'],\n",
    "          \"Hobbies\":['Dancing','Dancing']}\n",
    "df=pd.DataFrame(stud_data)\n",
    "print(df)"
   ]
  },
  {
   "cell_type": "code",
   "execution_count": 108,
   "id": "37ee736e-68f6-4b24-837d-35c5b54bbaea",
   "metadata": {},
   "outputs": [
    {
     "name": "stdout",
     "output_type": "stream",
     "text": [
      "     Name         Education  Age  City  Hobbies  Marks\n",
      "0  mohini  computer science   21  Pune  Dancing     70\n",
      "1   gauri               9th   14  Dehu  Dancing     90\n"
     ]
    }
   ],
   "source": [
    "# add a new column along with the values to the dataframe\n",
    "df['Marks']=[70,90]\n",
    "print(df)"
   ]
  },
  {
   "cell_type": "code",
   "execution_count": 110,
   "id": "64c09b2f-0906-49d0-a6fd-6da4940647a6",
   "metadata": {},
   "outputs": [
    {
     "data": {
      "text/html": [
       "<div>\n",
       "<style scoped>\n",
       "    .dataframe tbody tr th:only-of-type {\n",
       "        vertical-align: middle;\n",
       "    }\n",
       "\n",
       "    .dataframe tbody tr th {\n",
       "        vertical-align: top;\n",
       "    }\n",
       "\n",
       "    .dataframe thead th {\n",
       "        text-align: right;\n",
       "    }\n",
       "</style>\n",
       "<table border=\"1\" class=\"dataframe\">\n",
       "  <thead>\n",
       "    <tr style=\"text-align: right;\">\n",
       "      <th></th>\n",
       "      <th>Age</th>\n",
       "      <th>Marks</th>\n",
       "    </tr>\n",
       "  </thead>\n",
       "  <tbody>\n",
       "    <tr>\n",
       "      <th>count</th>\n",
       "      <td>2.000000</td>\n",
       "      <td>2.000000</td>\n",
       "    </tr>\n",
       "    <tr>\n",
       "      <th>mean</th>\n",
       "      <td>17.500000</td>\n",
       "      <td>80.000000</td>\n",
       "    </tr>\n",
       "    <tr>\n",
       "      <th>std</th>\n",
       "      <td>4.949747</td>\n",
       "      <td>14.142136</td>\n",
       "    </tr>\n",
       "    <tr>\n",
       "      <th>min</th>\n",
       "      <td>14.000000</td>\n",
       "      <td>70.000000</td>\n",
       "    </tr>\n",
       "    <tr>\n",
       "      <th>25%</th>\n",
       "      <td>15.750000</td>\n",
       "      <td>75.000000</td>\n",
       "    </tr>\n",
       "    <tr>\n",
       "      <th>50%</th>\n",
       "      <td>17.500000</td>\n",
       "      <td>80.000000</td>\n",
       "    </tr>\n",
       "    <tr>\n",
       "      <th>75%</th>\n",
       "      <td>19.250000</td>\n",
       "      <td>85.000000</td>\n",
       "    </tr>\n",
       "    <tr>\n",
       "      <th>max</th>\n",
       "      <td>21.000000</td>\n",
       "      <td>90.000000</td>\n",
       "    </tr>\n",
       "  </tbody>\n",
       "</table>\n",
       "</div>"
      ],
      "text/plain": [
       "             Age      Marks\n",
       "count   2.000000   2.000000\n",
       "mean   17.500000  80.000000\n",
       "std     4.949747  14.142136\n",
       "min    14.000000  70.000000\n",
       "25%    15.750000  75.000000\n",
       "50%    17.500000  80.000000\n",
       "75%    19.250000  85.000000\n",
       "max    21.000000  90.000000"
      ]
     },
     "execution_count": 110,
     "metadata": {},
     "output_type": "execute_result"
    }
   ],
   "source": [
    "# show the summary of statistics of the data frame\n",
    "df.describe()"
   ]
  },
  {
   "cell_type": "code",
   "execution_count": 112,
   "id": "25cd56b8-d559-4142-b994-0c6a1ac556b8",
   "metadata": {},
   "outputs": [
    {
     "name": "stdout",
     "output_type": "stream",
     "text": [
      "     Name         Education  Age  City  Hobbies  Marks\n",
      "0  mohini  computer science   21  Pune  Dancing     70\n"
     ]
    }
   ],
   "source": [
    "# show the entries where city is pune\n",
    "print(df[df['City']=='Pune'])\n"
   ]
  },
  {
   "cell_type": "code",
   "execution_count": 114,
   "id": "9eedd13e-600e-4a3b-9b94-e817d94de91d",
   "metadata": {},
   "outputs": [
    {
     "name": "stdout",
     "output_type": "stream",
     "text": [
      "     Name         Education  Age  City  Hobbies  Marks\n",
      "0  mohini  computer science   21  Pune  Dancing     70\n",
      "1   gauri               9th   14  Dehu  Dancing     90\n"
     ]
    }
   ],
   "source": [
    "# show the entries where the hobbies are same\n",
    "hobbies=df[df.duplicated('Hobbies',keep=False)] # keep=false  use for it return all duplicate values\n",
    "print(hobbies)"
   ]
  },
  {
   "cell_type": "code",
   "execution_count": 116,
   "id": "76371c6b-80c4-44d2-a7d7-802d2e5f03a7",
   "metadata": {},
   "outputs": [],
   "source": [
    "#save the data frame to a csv file name\n",
    "df.to_csv(\"Student_data.csv\",index=False)"
   ]
  },
  {
   "cell_type": "markdown",
   "id": "bd424baa-e682-49ca-b60d-2865fefc182e",
   "metadata": {},
   "source": [
    "1. write a function that reverse the order of words in a string without using bulit-in -method like split()."
   ]
  },
  {
   "cell_type": "code",
   "execution_count": 119,
   "id": "f6ca6346-027d-423d-939e-d2a26af01e95",
   "metadata": {},
   "outputs": [
    {
     "name": "stdout",
     "output_type": "stream",
     "text": [
      "morning Good Hello\n"
     ]
    }
   ],
   "source": [
    "def reverse_word(x): # create function for reverse word\n",
    "    word=\"\"  # initialize variable to store in word and ans\n",
    "    ans=\"\"\n",
    "    for char in x:\n",
    "        if char== \" \":  # if charecter is space add word to ans and reset word\n",
    "            ans=word+\" \" + ans\n",
    "            word=\"\" \n",
    "        else: # if charecter is not a space add in current word\n",
    "            word += char\n",
    "    ans=word + \" \" + ans # add last word to the ans\n",
    "    return ans.strip()  # remove space from both end\n",
    "\n",
    "x=\"Hello Good morning\"\n",
    "print(reverse_word(x))"
   ]
  },
  {
   "cell_type": "markdown",
   "id": "f8225dd1-9ffb-48dc-8ae9-d42fc0567313",
   "metadata": {},
   "source": [
    "2. write a function that compress a string using the count of repeated charecter e.g \"aabcccccaaa\" - \"a2b1c5a3\"."
   ]
  },
  {
   "cell_type": "code",
   "execution_count": 122,
   "id": "025c3271-d4a7-4ca3-8683-31e9209bf70d",
   "metadata": {},
   "outputs": [
    {
     "name": "stdout",
     "output_type": "stream",
     "text": [
      "a2b1c5a3\n"
     ]
    }
   ],
   "source": [
    "def compress_string(string):\n",
    "    ans = \"\" # Initialize variables to store result and count\n",
    "    count = 1\n",
    "    for i in range(len(string)):\n",
    "        if i == len(string) - 1 or string[i] != string[i + 1]: # Check if it's the last character or different from the next one\n",
    "            ans += string[i] + str(count ) # Append character and count to result\n",
    "            count = 1  # Reset count for next character\n",
    "        else:\n",
    "            count += 1 # Increment count if character is repeated\n",
    "    return ans\n",
    "\n",
    "# Test the function\n",
    "string = \"aabcccccaaa\"\n",
    "print(compress_string(string))"
   ]
  },
  {
   "cell_type": "markdown",
   "id": "9f2aecc4-353c-424d-8b65-4fe33c305c14",
   "metadata": {},
   "source": [
    "3. swap the values of two variables without using a third variable."
   ]
  },
  {
   "cell_type": "code",
   "execution_count": 125,
   "id": "fb9f30bc-4f35-4aaf-8d9b-972c9a8aecc8",
   "metadata": {},
   "outputs": [
    {
     "name": "stdout",
     "output_type": "stream",
     "text": [
      "Before swapping: x =  10 y =  15\n",
      "After swapping: x =  15 y = 10\n"
     ]
    }
   ],
   "source": [
    "x = 10 # initilize values\n",
    "y = 15\n",
    "\n",
    "print(\"Before swapping: x = \", x, \"y = \", y) # before swapping\n",
    "\n",
    "# swap the variable\n",
    "x, y = y, x\n",
    "\n",
    "print(\"After swapping: x = \", x, \"y =\", y)\n"
   ]
  },
  {
   "cell_type": "code",
   "execution_count": 127,
   "id": "8b96784e-b214-451e-85d0-99e1ac416773",
   "metadata": {},
   "outputs": [
    {
     "name": "stdout",
     "output_type": "stream",
     "text": [
      "['rose', 'tulip', 'lily', 'jasmin', 'mogra']\n",
      "['rose', 'tulip', 'lily', 'orchid', 'jasmin', 'mogra']\n",
      "['rose', 'tulip', 'lily', 'orchid', 'jasmin', 'mogra', 'hibiscus', 'lavender', 'iris', 'sunflower']\n",
      "['rose', 'tulip', 'lily', 'orchid', 'jasmin', 'mogra', 'hibiscus', 'lavender', 'iris']\n",
      "mogra\n",
      "['rose', 'tulip', 'lily', 'orchid', 'jasmin', 'hibiscus', 'lavender', 'iris']\n"
     ]
    }
   ],
   "source": [
    "flower=['rose','tulip','lily','jasmin','mogra']\n",
    "print(flower)\n",
    "# index 3-orchid\n",
    "flower.insert(3,'orchid')\n",
    "print(flower)\n",
    "# hibiscus,lavender,iris,sunflower add\n",
    "flower2=['hibiscus','lavender','iris','sunflower']\n",
    "flower.extend(flower2)\n",
    "print(flower)\n",
    "# last flower remove\n",
    "flower.remove('sunflower')\n",
    "print(flower)\n",
    "# 5 th index flower remove\n",
    "print(flower.pop(5))\n",
    "print(flower)"
   ]
  },
  {
   "cell_type": "code",
   "execution_count": null,
   "id": "4a6798c1-eb3a-4020-a480-1b6e69f6a596",
   "metadata": {},
   "outputs": [],
   "source": []
  }
 ],
 "metadata": {
  "kernelspec": {
   "display_name": "Python 3 (ipykernel)",
   "language": "python",
   "name": "python3"
  },
  "language_info": {
   "codemirror_mode": {
    "name": "ipython",
    "version": 3
   },
   "file_extension": ".py",
   "mimetype": "text/x-python",
   "name": "python",
   "nbconvert_exporter": "python",
   "pygments_lexer": "ipython3",
   "version": "3.12.4"
  }
 },
 "nbformat": 4,
 "nbformat_minor": 5
}
