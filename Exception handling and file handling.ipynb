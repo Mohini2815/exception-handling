{
 "cells": [
  {
   "cell_type": "markdown",
   "id": "cc8e8f8a-f53e-47a0-8c75-e60d8d4a028b",
   "metadata": {},
   "source": [
    "# Exception handling\n",
    "- it handling the error that occur during the program execution.\n",
    "\n",
    "**types of exception handling**\n",
    "1. **try** : if the error occur they immediately move to the except block\n",
    "2. **except** : it catch the error throws by the try block\n",
    "3. **else** : it is optional in else block has no exception raised then this block execute\n",
    "4. **finally** : it is optional use for cleanup "
   ]
  },
  {
   "cell_type": "code",
   "execution_count": 2,
   "id": "5e74b70e-befc-4fe9-b542-68a385a715a5",
   "metadata": {},
   "outputs": [
    {
     "name": "stdin",
     "output_type": "stream",
     "text": [
      "enter the number =  12\n"
     ]
    },
    {
     "name": "stdout",
     "output_type": "stream",
     "text": [
      "no error\n",
      "12\n"
     ]
    }
   ],
   "source": [
    "try:\n",
    "    a = int(input(\"enter the number = \")) # code that raises an exception\n",
    "except ValueError:\n",
    "    print('please enter number = ') # code that runs if an exception occurs\n",
    "else:\n",
    "    print('no error') # runs if no exception is raises\n",
    "finally: # runs no matter what\n",
    "    print(a)\n",
    "    "
   ]
  },
  {
   "cell_type": "code",
   "execution_count": 3,
   "id": "fcda461b-d6c2-40c3-9221-c0b919b7466b",
   "metadata": {},
   "outputs": [
    {
     "name": "stdin",
     "output_type": "stream",
     "text": [
      "enter number =  28\n"
     ]
    },
    {
     "name": "stdout",
     "output_type": "stream",
     "text": [
      "0.07142857142857142\n"
     ]
    }
   ],
   "source": [
    "try:\n",
    "    num = int(input('enter number = '))\n",
    "    x = 2/num\n",
    "except ValueError: # when user give string / character\n",
    "    print('Invalid...please enter number')\n",
    "except ZeroDivisionError: # when user give 0 number then they show ZeroDivisionError\n",
    "    print('please enter a number larger than zero')\n",
    "else:\n",
    "    print(x)"
   ]
  },
  {
   "cell_type": "code",
   "execution_count": 4,
   "id": "8bf54d75-beac-432c-bac6-59f899a6cf86",
   "metadata": {},
   "outputs": [
    {
     "name": "stdin",
     "output_type": "stream",
     "text": [
      "enter first number =  1\n",
      "enter second number =  3\n"
     ]
    },
    {
     "name": "stdout",
     "output_type": "stream",
     "text": [
      "division is: 0.3333333333333333\n"
     ]
    }
   ],
   "source": [
    "try:\n",
    "    n1 = int(input('enter first number = '))\n",
    "    n2 = int(input('enter second number = '))\n",
    "    print('division is:',n1/n2)\n",
    "except(ValueError,ZeroDivisionError) as e:\n",
    "    print('error :',e)"
   ]
  },
  {
   "cell_type": "markdown",
   "id": "179aa476-22a0-45dc-8826-12abb4b9e8b6",
   "metadata": {},
   "source": [
    "1. user has 5000 rs in balane ask how much to to withdraw. handle non-numeric input and insufficient balance."
   ]
  },
  {
   "cell_type": "code",
   "execution_count": 12,
   "id": "a47605a3-2325-43ff-a9c7-7c7efc6e5eb4",
   "metadata": {},
   "outputs": [
    {
     "name": "stdin",
     "output_type": "stream",
     "text": [
      "enter amount to withdraw =  1000\n"
     ]
    },
    {
     "name": "stdout",
     "output_type": "stream",
     "text": [
      "withdraw successfully. your new balance is : 4000.0\n"
     ]
    }
   ],
   "source": [
    "initial_balance = 5000\n",
    "\n",
    "try:\n",
    "    withdraw_amt = float(input('enter amount to withdraw = ')) \n",
    "    if withdraw_amt > initial_balance: # check if withdraw amount is greater than initial amount then print insufficient balance\n",
    "        print('user have insufficient balance')\n",
    "    else:\n",
    "        initial_balance -= withdraw_amt # otherwise withdraw amount is greater than initial amount is they subtract withdraw from initial amount\n",
    "        print('withdraw successfully. your new balance is :',initial_balance) # show your new balance\n",
    "except ValueError:\n",
    "    print('please enter number = ') "
   ]
  },
  {
   "cell_type": "markdown",
   "id": "34bb6e09-31eb-4ae9-b7df-f3f46fa7e42f",
   "metadata": {},
   "source": [
    "2. ask the user to enter a number convert it to an integer but handle invalid values like alphabets or float"
   ]
  },
  {
   "cell_type": "code",
   "execution_count": 14,
   "id": "257e41ab-ac54-4eca-b6ec-58fe04aa02df",
   "metadata": {},
   "outputs": [
    {
     "name": "stdin",
     "output_type": "stream",
     "text": [
      "enter number =  12\n"
     ]
    },
    {
     "name": "stdout",
     "output_type": "stream",
     "text": [
      "it is integer\n"
     ]
    }
   ],
   "source": [
    "try:\n",
    "    num = int(input('enter number = '))\n",
    "    print('it is integer')\n",
    "except ValueError:\n",
    "    print('not an integer')"
   ]
  },
  {
   "cell_type": "markdown",
   "id": "38ec357d-4f98-413c-a66b-fe5c46b7f9c7",
   "metadata": {},
   "source": [
    "3. ask the user tot enter an email. raise an exception if it doesn,t contain '@' or '.'"
   ]
  },
  {
   "cell_type": "code",
   "execution_count": 16,
   "id": "b5a374fd-3790-46e3-aa50-c369c287b72a",
   "metadata": {},
   "outputs": [
    {
     "name": "stdin",
     "output_type": "stream",
     "text": [
      "enter email id =  mohini@123\n"
     ]
    },
    {
     "name": "stdout",
     "output_type": "stream",
     "text": [
      "invalid email id\n"
     ]
    }
   ],
   "source": [
    "try:\n",
    "    id = input('enter email id = ')\n",
    "    if '@' not in id or '.' not in id:\n",
    "        raise ValueError\n",
    "    print('your email id is valid')\n",
    "except ValueError:\n",
    "    print('invalid email id')"
   ]
  },
  {
   "cell_type": "markdown",
   "id": "3ab81cf2-52e4-4b4c-a669-7717e1b8932c",
   "metadata": {},
   "source": [
    "4. ask user for hours worked and hourly wage if hour are more than 24 or negative raise an error"
   ]
  },
  {
   "cell_type": "code",
   "execution_count": 18,
   "id": "9def9669-5a8b-4fcc-903b-45cb8df301c8",
   "metadata": {},
   "outputs": [
    {
     "name": "stdin",
     "output_type": "stream",
     "text": [
      "enter your hours worked:  24\n",
      "enter your hours wage:  1000\n"
     ]
    },
    {
     "name": "stdout",
     "output_type": "stream",
     "text": [
      "24000.0\n"
     ]
    }
   ],
   "source": [
    "try:\n",
    "    work_hrs = float(input('enter your hours worked: ')) \n",
    "    wage_hr = float(input('enter your hours wage: '))\n",
    "\n",
    "    if work_hrs < 0 or work_hrs > 24:\n",
    "        print('invalid hours. must be between 0 and 24')\n",
    "    else:\n",
    "        total_pay = work_hrs * wage_hr\n",
    "        print(total_pay)\n",
    "except ValueError:\n",
    "    print('invalid input')"
   ]
  },
  {
   "cell_type": "markdown",
   "id": "c31717c7-88f2-45f3-811e-9bc83ce40474",
   "metadata": {},
   "source": [
    "5. take input of multiple(name,marks in 3 subject) and calculate the average, assign grade and display report card."
   ]
  },
  {
   "cell_type": "code",
   "execution_count": 24,
   "id": "9c61dd90-3166-4c64-9063-b9d2329bbf2e",
   "metadata": {},
   "outputs": [
    {
     "name": "stdin",
     "output_type": "stream",
     "text": [
      "Enter number of student: 2\n",
      "Enter the student name: mohini\n",
      "Enter math marks: 90\n",
      "Enter science marks: 89\n",
      "Enter english marks: 88\n"
     ]
    },
    {
     "name": "stdout",
     "output_type": "stream",
     "text": [
      "REPORT CARD\n",
      "Student name:mohini\n",
      "Marks:90.0,89.0,88.0\n",
      "Average marks 89.0\n",
      "student grade B\n"
     ]
    },
    {
     "name": "stdin",
     "output_type": "stream",
     "text": [
      "Enter the student name: gauri\n",
      "Enter math marks: 67\n",
      "Enter science marks: 78\n",
      "Enter english marks: 99\n"
     ]
    },
    {
     "name": "stdout",
     "output_type": "stream",
     "text": [
      "REPORT CARD\n",
      "Student name:gauri\n",
      "Marks:90.0,89.0,88.0\n",
      "Average marks 89.0\n",
      "student grade B\n",
      "Student name:gauri\n",
      "Marks:67.0,78.0,99.0\n",
      "Average marks 81.33333333333333\n",
      "student grade B\n"
     ]
    }
   ],
   "source": [
    "student={} # create empty dictionary\n",
    "\n",
    "num=int(input(\"Enter number of student:\")) \n",
    "for _ in range(num):\n",
    "    stud_name=input(\"Enter the student name:\")\n",
    "    math_mark=float(input(\"Enter math marks:\"))\n",
    "    sci_mark=float(input(\"Enter science marks:\"))\n",
    "    eng_mark=float(input(\"Enter english marks:\"))\n",
    "\n",
    "    avg=(math_mark + sci_mark + eng_mark)/3 # to find average\n",
    "    if avg >= 90:\n",
    "        grade=\"A\"\n",
    "    elif avg >=80:\n",
    "        grade=\"B\"\n",
    "    elif avg >=70:\n",
    "        grade=\"B+\"\n",
    "    elif avg >=60:\n",
    "        grade=\"C\"\n",
    "    else:\n",
    "        grade=\"F\"\n",
    "\n",
    "    student[stud_name]=(math_mark,sci_mark,eng_mark,avg,grade)\n",
    "    print(\"REPORT CARD\")\n",
    "    for name,report in student.items():\n",
    "        print(f\"Student name:{stud_name}\")\n",
    "        print(f\"Marks:{report[0]},{report[1]},{report[2]}\")\n",
    "        print(f\"Average marks {report[3]}\")\n",
    "        print(f\"student grade {report[4]}\")\n",
    "        \n",
    "    "
   ]
  },
  {
   "cell_type": "markdown",
   "id": "d9d7a7bb-4726-49b4-a639-52f96b0e719f",
   "metadata": {},
   "source": [
    "6. Temprature converter with menu convert: celcius to fahrenheit and fahrenheit to celcius and celcius to kelvin and kelvin to celcius."
   ]
  },
  {
   "cell_type": "code",
   "execution_count": 26,
   "id": "7de32a1d-e7ad-4475-b7fc-85919866f984",
   "metadata": {},
   "outputs": [
    {
     "name": "stdout",
     "output_type": "stream",
     "text": [
      "\n",
      "1. Celsius to Fahrenheit\n",
      "2. Fahrenheit to Celsius\n",
      "3. Celsius to Kelvin\n",
      "4. Kelvin to Celsius\n",
      "5. Exit\n"
     ]
    },
    {
     "name": "stdin",
     "output_type": "stream",
     "text": [
      "Enter your choice:  1\n",
      "Enter temperature in Celsius:  43\n"
     ]
    },
    {
     "name": "stdout",
     "output_type": "stream",
     "text": [
      "The conversion of Celsius to Fahrenheit is: 109.4\n",
      "\n",
      "1. Celsius to Fahrenheit\n",
      "2. Fahrenheit to Celsius\n",
      "3. Celsius to Kelvin\n",
      "4. Kelvin to Celsius\n",
      "5. Exit\n"
     ]
    },
    {
     "name": "stdin",
     "output_type": "stream",
     "text": [
      "Enter your choice:  5\n"
     ]
    },
    {
     "name": "stdout",
     "output_type": "stream",
     "text": [
      "Goodbye!\n"
     ]
    }
   ],
   "source": [
    "def celsius_to_fahrenheit(celsius): # define function for celsius_to_fahrenheit\n",
    "    return (celsius * 9/5) + 32  # to convert celsius_to_fahrenheit\n",
    "\n",
    "def fahrenheit_to_celsius(fahrenheit): # define function for fahrenheit_to_celsius\n",
    "    return (fahrenheit - 32) * 5/9 # to convert fahrenheit_to_celsius\n",
    "\n",
    "def celsius_to_kelvin(celsius): # define function for celsius_to_kelvin\n",
    "    return celsius + 273.15  # to convert celsius_to_kelvin\n",
    "\n",
    "def kelvin_to_celsius(kelvin): # define function for kelvin_to_celsius\n",
    "    return kelvin - 273.15 # to convert kelvin_to_celsius\n",
    "\n",
    "def temp_convertor():  # define  the last function for temperature_converter\n",
    "    while True:  # While=True for it excecute until condition is  exit\n",
    "        print(\"\\n1. Celsius to Fahrenheit\")\n",
    "        print(\"2. Fahrenheit to Celsius\")\n",
    "        print(\"3. Celsius to Kelvin\")\n",
    "        print(\"4. Kelvin to Celsius\")\n",
    "        print(\"5. Exit\")\n",
    "\n",
    "        user_choice = input(\"Enter your choice: \") # take user choice\n",
    "\n",
    "        if user_choice == '1':\n",
    "            celsius = float(input(\"Enter temperature in Celsius: \"))\n",
    "            fahrenheit = celsius_to_fahrenheit(celsius)\n",
    "            print(\"The conversion of Celsius to Fahrenheit is:\", fahrenheit)\n",
    "        elif user_choice == '2':\n",
    "            fahrenheit = float(input(\"Enter temperature in Fahrenheit: \"))\n",
    "            celsius = fahrenheit_to_celsius(fahrenheit)\n",
    "            print(\"The conversion of Fahrenheit to Celsius is:\", celsius)\n",
    "        elif user_choice == '3':\n",
    "            celsius = float(input(\"Enter temperature in Celsius: \"))\n",
    "            kelvin = celsius_to_kelvin(celsius)\n",
    "            print(\"The conversion of Celsius to Kelvin is:\", kelvin)\n",
    "        elif user_choice == '4':\n",
    "            kelvin = float(input(\"Enter temperature in Kelvin: \"))\n",
    "            celsius = kelvin_to_celsius(kelvin)\n",
    "            print(\"The conversion of Kelvin to Celsius is:\", celsius)\n",
    "        elif user_choice == '5':\n",
    "            print(\"Goodbye!\")  # stop the loop\n",
    "            break\n",
    "        else:\n",
    "            print(\"Invalid choice! Try again.\") # if user not  give input between 1-5 then it will be print. \n",
    "\n",
    "temp_convertor() # call the function\n",
    "              "
   ]
  },
  {
   "cell_type": "markdown",
   "id": "c268991b-cd89-4ed9-8fa7-3293d09b912a",
   "metadata": {},
   "source": [
    "7. Simulation a login system with a predefined username and password."
   ]
  },
  {
   "cell_type": "code",
   "execution_count": 28,
   "id": "4d6d308d-2b56-4eae-bb2d-9981207e930c",
   "metadata": {},
   "outputs": [
    {
     "name": "stdin",
     "output_type": "stream",
     "text": [
      "Enter  the username:  mohini\n",
      "Enter the  password:  6798\n"
     ]
    },
    {
     "name": "stdout",
     "output_type": "stream",
     "text": [
      "Invalid username or password\n"
     ]
    }
   ],
   "source": [
    "username = \"mohini\" # Predefined username and password\n",
    "password = \"2810\"\n",
    "def password_rule(pas): # create function for password rule\n",
    "    if len(pwd) < 8: # password contain atleast 8 charecter\n",
    "        return \"Password too short\"\n",
    "    elif not password.search(\"[a-z]\", pas): # password contain atleast one lower case letter\n",
    "        return \"Password contain lowercase letter\"\n",
    "    elif not password.search(\"[A-Z]\", pas):  # password contain atleast one upper case letter\n",
    "        return \"Password contain uppercase letter\"\n",
    "    elif not password.search(\"[0-9]\", pas):  # password should contain digits \n",
    "        return \"Password contain atleast one digit\"\n",
    "    else:\n",
    "        return \"Valid\"\n",
    "user = input(\"Enter  the username: \") # take user_name and password from user \n",
    "pas= input(\"Enter the  password: \")\n",
    "\n",
    "if user == username and pas== password: # if user & pas it match  to the username and password\n",
    "    print(\"Login successful!\") # print login sucessfull\n",
    "else:\n",
    "    print(\"Invalid username or password\") # other wise it return invalid password & username"
   ]
  },
  {
   "cell_type": "markdown",
   "id": "4a2977f1-ea94-42bd-be93-afc89ead579e",
   "metadata": {},
   "source": [
    "8. python program for to find cube of number entered by the user."
   ]
  },
  {
   "cell_type": "code",
   "execution_count": 30,
   "id": "dc27ec51-d9b6-47c3-9c78-8dcbd796f32d",
   "metadata": {},
   "outputs": [
    {
     "name": "stdin",
     "output_type": "stream",
     "text": [
      "Enter the number:  34\n"
     ]
    },
    {
     "name": "stdout",
     "output_type": "stream",
     "text": [
      "The cube of 34 is 39304\n"
     ]
    }
   ],
   "source": [
    "number = int(input(\"Enter the number: \"))  # take input from user\n",
    "cube = number ** 3 # to find cube of the number\n",
    "print(f\"The cube of {number} is {cube}\")"
   ]
  },
  {
   "cell_type": "markdown",
   "id": "4659ed08-e2cd-423e-9e54-119e50e03094",
   "metadata": {},
   "source": [
    "9. Input a paragraph,clean it up and count the frequency using a dictionary.bonus:sort by frequency."
   ]
  },
  {
   "cell_type": "code",
   "execution_count": 32,
   "id": "3dd1a74b-0710-4132-90ad-9f6bf5e0671d",
   "metadata": {},
   "outputs": [
    {
     "name": "stdin",
     "output_type": "stream",
     "text": [
      "Enter a paragraph:  mohini is my name\n"
     ]
    },
    {
     "name": "stdout",
     "output_type": "stream",
     "text": [
      "mohini 1\n",
      "is 1\n",
      "my 1\n",
      "name 1\n"
     ]
    }
   ],
   "source": [
    "para = input(\"Enter a paragraph: \") # take a paragraph from user\n",
    "\n",
    "# Clean the  paragraph\n",
    "para = para.lower() # to get all word in a lower case\n",
    "for ch in \".,!?;:\":  # Removes punctuation by replacing them with an empty string.\n",
    "    para = para.replace(ch, '')\n",
    "\n",
    "# Split into words\n",
    "words = para.split() # Split  paragraph into a words\n",
    "\n",
    "# Count word frequencies using dictionary\n",
    "frequency = {} # create empty dict\n",
    "for word in words:\n",
    "    if word in frequency:\n",
    "        frequency[word] += 1\n",
    "    else:\n",
    "        frequency[word] = 1\n",
    "\n",
    "# Sorts the word counts from highest to lowest.\n",
    "sort_freq = sorted(frequency.items(), key=lambda x: x[1], reverse=True)\n",
    "\n",
    "# Print results\n",
    "for word, count in sort_freq:\n",
    "    print(word, count)"
   ]
  },
  {
   "cell_type": "markdown",
   "id": "c9c72ff9-0e92-42fc-9fe9-2de129fcd25d",
   "metadata": {},
   "source": [
    "# file handling\n",
    "- it refers to creating , opening, reading , writing and closing the file."
   ]
  },
  {
   "cell_type": "markdown",
   "id": "cd4f7598-4d89-4a38-8fca-89982b594873",
   "metadata": {},
   "source": [
    "1. find and replace text in a file. open a file called data.txt replace every occurrence of the word 'python' with 'PYTHON' (capital letters) save the new content back into the same file"
   ]
  },
  {
   "cell_type": "code",
   "execution_count": 34,
   "id": "0a35fd88-2b4f-41d3-99a3-f3b9806c3836",
   "metadata": {},
   "outputs": [
    {
     "name": "stdout",
     "output_type": "stream",
     "text": [
      "I like python language\n",
      " python is very easy.\n",
      "I like PYTHON language\n",
      " PYTHON is very easy.\n",
      "text replaced successfully in data.txt\n"
     ]
    }
   ],
   "source": [
    "with open('data.txt','w') as file: # create or open the 'data.txt' file in write mode\n",
    "    file.write('I like python language\\n python is very easy.') # write a sentence\n",
    "\n",
    "def replace_text_in_file(data,old_text,new_text): # define a function for replace the text\n",
    "    try:\n",
    "        # open file in read mode\n",
    "        with open(data,'r') as file:\n",
    "            file_data = file.read()\n",
    "            print(file_data)\n",
    "\n",
    "        # replace text\n",
    "        file_data = file_data.replace(old_text,new_text) # to replace the 'python' to 'PYTHON'\n",
    "\n",
    "        print(file_data)\n",
    "\n",
    "        # open file in write mode\n",
    "        with open(data,'w') as file:\n",
    "            file.write(file_data)\n",
    "\n",
    "        print(f\"text replaced successfully in {data}\")\n",
    "\n",
    "    except FileNotFoundError: # error message if file does not exist\n",
    "        print(f'file {data} not found')\n",
    "\n",
    "replace_text_in_file('data.txt','python','PYTHON') # call function"
   ]
  },
  {
   "cell_type": "markdown",
   "id": "b143e7f3-1a01-4f6c-b998-f7acde29138d",
   "metadata": {},
   "source": [
    "2. create a simple contact book ask the user to enter name and phone number. save each contact in file contacts.txt in this format Name:[name],Phone:[phone] allow multiple contacts"
   ]
  },
  {
   "cell_type": "code",
   "execution_count": 37,
   "id": "b2ab9e94-ddee-4820-8de4-ae1d60c33784",
   "metadata": {},
   "outputs": [
    {
     "name": "stdin",
     "output_type": "stream",
     "text": [
      "how many contact you want =  1\n",
      "enter name =  mohini\n",
      "enter phone number =  2323456789\n"
     ]
    },
    {
     "name": "stdout",
     "output_type": "stream",
     "text": [
      "contact is saved\n"
     ]
    }
   ],
   "source": [
    "no_of_contact = int(input('how many contact you want = '))\n",
    "with open('contact.txt','a') as file: # open contact.txt file with append mode (to add content in last)\n",
    "    for _ in range(no_of_contact):\n",
    "        name = input('enter name = ')\n",
    "        phone = input('enter phone number = ')\n",
    "        file.write(f'Name:{name},Phone:{phone}')\n",
    "\n",
    "print('contact is saved')"
   ]
  },
  {
   "cell_type": "markdown",
   "id": "4a5fc1ca-0328-461e-99e2-89d0cecdd57d",
   "metadata": {},
   "source": [
    "3. safe file reader with error handling ask the user for a filename. try to open the file and read content. if file does not exist, show a nice error message without crashing"
   ]
  },
  {
   "cell_type": "code",
   "execution_count": 39,
   "id": "33c558e5-2ae2-46b1-b689-af5cc6b03ad0",
   "metadata": {},
   "outputs": [
    {
     "name": "stdin",
     "output_type": "stream",
     "text": [
      "enter filename: mohini\n"
     ]
    },
    {
     "name": "stdout",
     "output_type": "stream",
     "text": [
      "sorry this file not found\n"
     ]
    }
   ],
   "source": [
    "try:\n",
    "    filename = input('enter filename:')\n",
    "    with open(filename,'r') as file:\n",
    "        print(file.read())\n",
    "except FileNotFoundError:\n",
    "    print(f'sorry this file not found')"
   ]
  },
  {
   "cell_type": "markdown",
   "id": "acaeaa6f-3eaa-4f87-b0e3-65ebbb64aa87",
   "metadata": {},
   "source": [
    "4. count lines,words and characters open essay.txt. count total number of lines total number of words total number of characters print all three counts"
   ]
  },
  {
   "cell_type": "code",
   "execution_count": 44,
   "id": "d8c78163-81bb-494a-b840-edae733d9216",
   "metadata": {},
   "outputs": [
    {
     "ename": "FileNotFoundError",
     "evalue": "[Errno 2] No such file or directory: 'example.txt'",
     "output_type": "error",
     "traceback": [
      "\u001b[1;31m---------------------------------------------------------------------------\u001b[0m",
      "\u001b[1;31mFileNotFoundError\u001b[0m                         Traceback (most recent call last)",
      "Cell \u001b[1;32mIn[44], line 1\u001b[0m\n\u001b[1;32m----> 1\u001b[0m \u001b[38;5;28;01mwith\u001b[39;00m \u001b[38;5;28mopen\u001b[39m(\u001b[38;5;124m'\u001b[39m\u001b[38;5;124mexample.txt\u001b[39m\u001b[38;5;124m'\u001b[39m,\u001b[38;5;124m'\u001b[39m\u001b[38;5;124mr\u001b[39m\u001b[38;5;124m'\u001b[39m) \u001b[38;5;28;01mas\u001b[39;00m file: \u001b[38;5;66;03m# open file in read mode\u001b[39;00m\n\u001b[0;32m      2\u001b[0m     text \u001b[38;5;241m=\u001b[39m file\u001b[38;5;241m.\u001b[39mread() \u001b[38;5;66;03m# read the entire file into a string\u001b[39;00m\n\u001b[0;32m      3\u001b[0m     lines \u001b[38;5;241m=\u001b[39m text\u001b[38;5;241m.\u001b[39mcount(\u001b[38;5;124m'\u001b[39m\u001b[38;5;130;01m\\n\u001b[39;00m\u001b[38;5;124m'\u001b[39m) \u001b[38;5;241m+\u001b[39m \u001b[38;5;241m1\u001b[39m \u001b[38;5;66;03m# count the number of lines by counting new line\u001b[39;00m\n",
      "File \u001b[1;32m~\\anaconda3\\Lib\\site-packages\\IPython\\core\\interactiveshell.py:324\u001b[0m, in \u001b[0;36m_modified_open\u001b[1;34m(file, *args, **kwargs)\u001b[0m\n\u001b[0;32m    317\u001b[0m \u001b[38;5;28;01mif\u001b[39;00m file \u001b[38;5;129;01min\u001b[39;00m {\u001b[38;5;241m0\u001b[39m, \u001b[38;5;241m1\u001b[39m, \u001b[38;5;241m2\u001b[39m}:\n\u001b[0;32m    318\u001b[0m     \u001b[38;5;28;01mraise\u001b[39;00m \u001b[38;5;167;01mValueError\u001b[39;00m(\n\u001b[0;32m    319\u001b[0m         \u001b[38;5;124mf\u001b[39m\u001b[38;5;124m\"\u001b[39m\u001b[38;5;124mIPython won\u001b[39m\u001b[38;5;124m'\u001b[39m\u001b[38;5;124mt let you open fd=\u001b[39m\u001b[38;5;132;01m{\u001b[39;00mfile\u001b[38;5;132;01m}\u001b[39;00m\u001b[38;5;124m by default \u001b[39m\u001b[38;5;124m\"\u001b[39m\n\u001b[0;32m    320\u001b[0m         \u001b[38;5;124m\"\u001b[39m\u001b[38;5;124mas it is likely to crash IPython. If you know what you are doing, \u001b[39m\u001b[38;5;124m\"\u001b[39m\n\u001b[0;32m    321\u001b[0m         \u001b[38;5;124m\"\u001b[39m\u001b[38;5;124myou can use builtins\u001b[39m\u001b[38;5;124m'\u001b[39m\u001b[38;5;124m open.\u001b[39m\u001b[38;5;124m\"\u001b[39m\n\u001b[0;32m    322\u001b[0m     )\n\u001b[1;32m--> 324\u001b[0m \u001b[38;5;28;01mreturn\u001b[39;00m io_open(file, \u001b[38;5;241m*\u001b[39margs, \u001b[38;5;241m*\u001b[39m\u001b[38;5;241m*\u001b[39mkwargs)\n",
      "\u001b[1;31mFileNotFoundError\u001b[0m: [Errno 2] No such file or directory: 'example.txt'"
     ]
    }
   ],
   "source": [
    "with open('example.txt','r') as file: # open file in read mode\n",
    "    text = file.read() # read the entire file into a string\n",
    "    lines = text.count('\\n') + 1 # count the number of lines by counting new line\n",
    "    words = len(text.split()) # split the text into words and count them\n",
    "    char = len(text) # count the total number of characters\n",
    "# print the total lines, words and character\n",
    "print(f'total lines : {lines}')\n",
    "print(f'total words : {words}')\n",
    "print(f'total characters : {char}')"
   ]
  },
  {
   "cell_type": "markdown",
   "id": "ed09c1a7-8904-4d84-8c86-873164f166ea",
   "metadata": {},
   "source": [
    "5. merge two files you have two files. file1.txt and file2.txt create a third file merger.txt and write contents of both files into it"
   ]
  },
  {
   "cell_type": "code",
   "execution_count": 49,
   "id": "0abfa77d-72f0-44a5-8b18-cec45a5240e4",
   "metadata": {},
   "outputs": [
    {
     "name": "stdout",
     "output_type": "stream",
     "text": [
      "files are merged successfully\n",
      "this is programming language\n",
      "\n",
      "this student is very smart\n"
     ]
    }
   ],
   "source": [
    "with open('python.txt','w') as f: # create first file\n",
    "    f.write('this is programming language')\n",
    "\n",
    "with open('stud.txt','w') as f: # create second file\n",
    "    f.write('this student is very smart')\n",
    "\n",
    "with open('python.txt','r') as f1,open('stud.txt','r')as f2,open('merged.txt','w')as fo: # merged two files\n",
    "    fo.write(f1.read() + '\\n\\n' + f2.read())\n",
    "\n",
    "print('files are merged successfully')\n",
    "\n",
    "with open('merged.txt','r')as f: # show the merged file\n",
    "    print(f.read())"
   ]
  },
  {
   "cell_type": "markdown",
   "id": "ef612c62-1d27-4d1b-a1c5-89e826d58e7e",
   "metadata": {},
   "source": [
    "6. open a text file count the frequency of each word, and display the top 5 most frequent ones"
   ]
  },
  {
   "cell_type": "code",
   "execution_count": 6,
   "id": "59259ab8-cd47-4825-a6df-bc2f9b92028f",
   "metadata": {},
   "outputs": [
    {
     "ename": "FileNotFoundError",
     "evalue": "[Errno 2] No such file or directory: 'file.txt'",
     "output_type": "error",
     "traceback": [
      "\u001b[1;31m---------------------------------------------------------------------------\u001b[0m",
      "\u001b[1;31mFileNotFoundError\u001b[0m                         Traceback (most recent call last)",
      "Cell \u001b[1;32mIn[6], line 3\u001b[0m\n\u001b[0;32m      1\u001b[0m \u001b[38;5;28;01mfrom\u001b[39;00m \u001b[38;5;21;01mcollections\u001b[39;00m \u001b[38;5;28;01mimport\u001b[39;00m Counter\n\u001b[1;32m----> 3\u001b[0m \u001b[38;5;28;01mwith\u001b[39;00m \u001b[38;5;28mopen\u001b[39m(\u001b[38;5;124m'\u001b[39m\u001b[38;5;124mfile.txt\u001b[39m\u001b[38;5;124m'\u001b[39m,\u001b[38;5;124m'\u001b[39m\u001b[38;5;124mr\u001b[39m\u001b[38;5;124m'\u001b[39m) \u001b[38;5;28;01mas\u001b[39;00m f:\n\u001b[0;32m      4\u001b[0m     words \u001b[38;5;241m=\u001b[39m file\u001b[38;5;241m.\u001b[39mread()\u001b[38;5;241m.\u001b[39mlower()\u001b[38;5;241m.\u001b[39msplit()\n\u001b[0;32m      5\u001b[0m     word_freq \u001b[38;5;241m=\u001b[39m Counter(words)\n",
      "File \u001b[1;32m~\\anaconda3\\Lib\\site-packages\\IPython\\core\\interactiveshell.py:324\u001b[0m, in \u001b[0;36m_modified_open\u001b[1;34m(file, *args, **kwargs)\u001b[0m\n\u001b[0;32m    317\u001b[0m \u001b[38;5;28;01mif\u001b[39;00m file \u001b[38;5;129;01min\u001b[39;00m {\u001b[38;5;241m0\u001b[39m, \u001b[38;5;241m1\u001b[39m, \u001b[38;5;241m2\u001b[39m}:\n\u001b[0;32m    318\u001b[0m     \u001b[38;5;28;01mraise\u001b[39;00m \u001b[38;5;167;01mValueError\u001b[39;00m(\n\u001b[0;32m    319\u001b[0m         \u001b[38;5;124mf\u001b[39m\u001b[38;5;124m\"\u001b[39m\u001b[38;5;124mIPython won\u001b[39m\u001b[38;5;124m'\u001b[39m\u001b[38;5;124mt let you open fd=\u001b[39m\u001b[38;5;132;01m{\u001b[39;00mfile\u001b[38;5;132;01m}\u001b[39;00m\u001b[38;5;124m by default \u001b[39m\u001b[38;5;124m\"\u001b[39m\n\u001b[0;32m    320\u001b[0m         \u001b[38;5;124m\"\u001b[39m\u001b[38;5;124mas it is likely to crash IPython. If you know what you are doing, \u001b[39m\u001b[38;5;124m\"\u001b[39m\n\u001b[0;32m    321\u001b[0m         \u001b[38;5;124m\"\u001b[39m\u001b[38;5;124myou can use builtins\u001b[39m\u001b[38;5;124m'\u001b[39m\u001b[38;5;124m open.\u001b[39m\u001b[38;5;124m\"\u001b[39m\n\u001b[0;32m    322\u001b[0m     )\n\u001b[1;32m--> 324\u001b[0m \u001b[38;5;28;01mreturn\u001b[39;00m io_open(file, \u001b[38;5;241m*\u001b[39margs, \u001b[38;5;241m*\u001b[39m\u001b[38;5;241m*\u001b[39mkwargs)\n",
      "\u001b[1;31mFileNotFoundError\u001b[0m: [Errno 2] No such file or directory: 'file.txt'"
     ]
    }
   ],
   "source": [
    "from collections import Counter\n",
    "\n",
    "with open('file.txt','r') as f:\n",
    "    words = file.read().lower().split()\n",
    "    word_freq = Counter(words)\n",
    "    top5 = word_freq.most_common(5)\n",
    "    for word,freq in top5:\n",
    "        print(f'{word}:{freq}')"
   ]
  },
  {
   "cell_type": "markdown",
   "id": "39b8dec4-e224-494a-bc17-0ed0f3227372",
   "metadata": {},
   "source": [
    "7. Sort a list without using sort() or sorted() write a function to sort a list in ascending order"
   ]
  },
  {
   "cell_type": "code",
   "execution_count": 15,
   "id": "ff0f5343-2095-404f-bc76-5faf6bfce287",
   "metadata": {},
   "outputs": [
    {
     "name": "stdout",
     "output_type": "stream",
     "text": [
      "[1, 1, 1, 2, 2, 4, 5, 6]\n"
     ]
    }
   ],
   "source": [
    "def bubble_sort(lst):\n",
    "    n = len(lst)\n",
    "    for i in range(n):\n",
    "        for j in range(0,n-i-1):\n",
    "            if lst[j] > lst[j+1]:\n",
    "                lst[j],lst[j+1]= lst[j+1],lst[j]\n",
    "    return lst\n",
    "\n",
    "numbers = [1,2,1,4,2,1,5,6]\n",
    "print(bubble_sort(numbers))"
   ]
  },
  {
   "cell_type": "markdown",
   "id": "e4e8085c-2819-431c-8514-a6a1ccadd38b",
   "metadata": {},
   "source": [
    "8. convert a list of integers to a single number"
   ]
  },
  {
   "cell_type": "code",
   "execution_count": 20,
   "id": "d23c06ed-7763-4f3f-a20d-d56972ccdb95",
   "metadata": {},
   "outputs": [
    {
     "name": "stdout",
     "output_type": "stream",
     "text": [
      "list [4, 5, 3, 1, 2]\n",
      "single numbers =  45312\n"
     ]
    }
   ],
   "source": [
    "def to_number(lst):\n",
    "    return int(''.join(map(str,lst)))\n",
    "\n",
    "num = [4,5,3,1,2]\n",
    "print('list',num)\n",
    "print('single numbers = ',to_number(num))"
   ]
  },
  {
   "cell_type": "code",
   "execution_count": null,
   "id": "79b8d235-7669-47e1-a2da-ad72720480bf",
   "metadata": {},
   "outputs": [],
   "source": []
  }
 ],
 "metadata": {
  "kernelspec": {
   "display_name": "Python 3 (ipykernel)",
   "language": "python",
   "name": "python3"
  },
  "language_info": {
   "codemirror_mode": {
    "name": "ipython",
    "version": 3
   },
   "file_extension": ".py",
   "mimetype": "text/x-python",
   "name": "python",
   "nbconvert_exporter": "python",
   "pygments_lexer": "ipython3",
   "version": "3.12.4"
  }
 },
 "nbformat": 4,
 "nbformat_minor": 5
}
